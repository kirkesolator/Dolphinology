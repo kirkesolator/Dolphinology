{
 "cells": [
  {
   "cell_type": "code",
   "execution_count": 1,
   "metadata": {},
   "outputs": [],
   "source": [
    "import numpy as np\n",
    "import matplotlib.pyplot as plt\n",
    "plt.style.use('ggplot')"
   ]
  },
  {
   "cell_type": "code",
   "execution_count": 38,
   "metadata": {},
   "outputs": [
    {
     "data": {
      "text/plain": [
       "<matplotlib.image.AxesImage at 0x11ff05a90>"
      ]
     },
     "execution_count": 38,
     "metadata": {},
     "output_type": "execute_result"
    },
    {
     "data": {
      "image/png": "[encoded data removed]",
      "text/plain": [
       "<Figure size 432x288 with 1 Axes>"
      ]
     },
     "metadata": {
      "needs_background": "light"
     },
     "output_type": "display_data"
    }
   ],
   "source": [
    "# Generate connectivity matrix\n",
    "nEC = 4 # Number excitatory cells\n",
    "nIC = 2 # Number inhibitory cells\n",
    "\n",
    "wEC = 1\n",
    "wIC = -1\n",
    "\n",
    "H = {'EC': {0: [1,3,4], \n",
    "             1: [0,2,4],\n",
    "             2: [1,3,5],\n",
    "             3: [0,2,5]\n",
    "            },\n",
    "      'IC': {0: [0,3], \n",
    "             1: [1,2],\n",
    "            }\n",
    "     }\n",
    "CM = np.zeros([6,6])\n",
    "\n",
    "for n in range(4):\n",
    "    for val in H['EC'][n]:\n",
    "        CM[n,val] = wEC\n",
    "for n in range(2):\n",
    "    for val in H['IC'][n]:\n",
    "        CM[n+nEC,val] = wIC\n",
    "plt.imshow(CM,cmap='gray')"
   ]
  },
  {
   "cell_type": "code",
   "execution_count": 4,
   "metadata": {},
   "outputs": [],
   "source": [
    "# Set up rules and variables"
   ]
  },
  {
   "cell_type": "code",
   "execution_count": 5,
   "metadata": {},
   "outputs": [],
   "source": [
    "# Test"
   ]
  },
  {
   "cell_type": "code",
   "execution_count": 6,
   "metadata": {},
   "outputs": [],
   "source": [
    "# Run"
   ]
  },
  {
   "cell_type": "code",
   "execution_count": null,
   "metadata": {},
   "outputs": [],
   "source": [
    "# Notes on Izhikevich chapter 10 synchronization"
   ]
  }
 ],
 "metadata": {
  "kernelspec": {
   "display_name": "Python 2",
   "language": "python",
   "name": "python2"
  },
  "language_info": {
   "codemirror_mode": {
    "name": "ipython",
    "version": 2
   },
   "file_extension": ".py",
   "mimetype": "text/x-python",
   "name": "python",
   "nbconvert_exporter": "python",
   "pygments_lexer": "ipython2",
   "version": "2.7.15"
  }
 },
 "nbformat": 4,
 "nbformat_minor": 2
}
