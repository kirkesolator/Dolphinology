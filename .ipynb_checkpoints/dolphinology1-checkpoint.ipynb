{
 "cells": [
  {
   "cell_type": "markdown",
   "metadata": {},
   "source": [
    "## Hodgkin Huxley model\n",
    "\n",
    "[Here](https://hodgkin-huxley-tutorial.readthedocs.io/en/latest/_static/Hodgkin%20Huxley.html) is a very basic python implementation of the HH model for [reference](https://hodgkin-huxley-tutorial.readthedocs.io/en/latest/_static/Tutorial.html). The [wiki](https://en.wikipedia.org/wiki/Hodgkin%E2%80%93Huxley_model) page is alright, but their [original paper](https://www.ncbi.nlm.nih.gov/pmc/articles/PMC1392413/) fucking rocks.\n",
    "\n",
    "Some [info](https://www.ncbi.nlm.nih.gov/pmc/articles/PMC3685589/) on modeling environments:\n",
    "> Currently, there are several specialized software packages available for visualizing neural phenomena from different perspectives. These include NEST, which uses unicompartmental models [11], and NEURON and GENESIS, which use both uni- and multi-compartmental models, thereby providing a more realistic model [12-15]. Of these packages, NEURON is the most popular, with numerous papers published in prestigious journals in the neuroscience field [16,17]. The literature clearly shows its efficiency in developing neuronal simulations with full control of the morphological and biophysical properties. On the other hand, it is important to highlight that, by default, NEURON uses the kinetics of the potassium and sodium channels with HH properties. \n",
    "\n",
    "The [NEURON website](https://www.neuron.yale.edu/neuron/) and [this MiT page](http://web.mit.edu/neuron_v7.4/nrntuthtml/index.html) contains a lot of documentation we should check out."
   ]
  },
  {
   "cell_type": "markdown",
   "metadata": {},
   "source": [
    "## Gap junctions\n",
    "[This paper](https://www.ncbi.nlm.nih.gov/pubmed/18287497) by Maccaferri is the one that blew my socks off when and got me onto the idea of 5-HT modulating network dynamical robustness through gap junctions. The effect of noradrenaline on these GABAergic cells in hippocampus is to ~50% reduction in gap junction conductance: ![Figure 1](http://www.jneurosci.org/content/jneuro/28/8/1804/F1.medium.gif)\n",
    "![Figure 2](http://www.jneurosci.org/content/jneuro/28/8/1804/F2.medium.gif)\n",
    "\n",
    "[This paper](https://www.ncbi.nlm.nih.gov/pubmed/22319469) implements gap junctions in HH model to study synchrony and burst statistics in thalamic networks.\n",
    "\n",
    "[Here](https://www.ncbi.nlm.nih.gov/pmc/articles/PMC3530231/) is a (potentially crappy) paper that nonetheless also implements gap juntions into a HH model network. They use this simple measure to quanitify synchrony (errr):\n",
    "\n",
    "$$\n",
    "\\chi = \\frac{\\big(\\overline{\\frac{1}{N}\\sum_{i=1}^N V_i(t)\\big)^2} - \\big(\\overline{\\frac{1}{N}\\sum_{i=1}^N V_i(t)\\big)}^2}{\\frac{1}{N}\\sum_{i=1}^N \\big(\\overline{V_i(t)^2} - (\\overline{V_i(t)})^2\\big)}\n",
    "$$\n",
    "\n",
    "[These people](https://www.ncbi.nlm.nih.gov/pubmed/26953131) show that meth -yes meth- changes gap junction conductance in cortical interneurons:\n",
    "\n",
    "> Furthermore, we found that these changes in gap junctions induced by meth treatment were mediated by activation of dopamine receptors, suggesting that dysregulation of dopamine signaling induced by meth is essential for gap junction compromise.\n",
    "\n",
    "Interesting....\n",
    "\n",
    "[This paper](http://www.jneurosci.org/content/35/3/1149.long) shows that dopamine likely causes changes to oscillatory states in striatal fast spiking interneurons via gap junction modulation. They model gap junctions with these parameters:\n",
    "\n",
    "> The gap junction connections between the FSIs were modeled as resistive elements between the primary dendrites, with a conductance of 0.5 nS, coupling coefficient of 25%, and probability of gap junction connection between nearby FSIs (those within 100 μm) of 0.3 (Koós and Tepper, 1999; Tepper et al., 2004; Hjorth et al., 2009).\n",
    "\n",
    "These add to my belief that there is something important going on with gap junctions on network dynamics.\n",
    "\n",
    "The [London & Latham paper](https://www.ncbi.nlm.nih.gov/pubmed/20596024) that is the second important paper for our hypothesis. In particular, the demonstrate the inability of cortical networks _in-vivo_ and _in-silica_ to avoid large trajectory changes from single-spike perturbations. The supplementary info is important to see how they built a model devoid of any sort of oscillatory regimes.\n",
    "\n",
    "![Figure 1](https://www.ncbi.nlm.nih.gov/pmc/articles/instance/2898896/bin/nihms-196781-f0001.jpg)"
   ]
  },
  {
   "cell_type": "markdown",
   "metadata": {},
   "source": [
    "## First order of business\n",
    "- Decide on model architecture and implementation\n",
    "- Test with single then 2-neuron networks\n"
   ]
  },
  {
   "cell_type": "code",
   "execution_count": null,
   "metadata": {},
   "outputs": [],
   "source": []
  }
 ],
 "metadata": {
  "kernelspec": {
   "display_name": "Python 3",
   "language": "python",
   "name": "python3"
  },
  "language_info": {
   "codemirror_mode": {
    "name": "ipython",
    "version": 3
   },
   "file_extension": ".py",
   "mimetype": "text/x-python",
   "name": "python",
   "nbconvert_exporter": "python",
   "pygments_lexer": "ipython3",
   "version": "3.6.5"
  }
 },
 "nbformat": 4,
 "nbformat_minor": 2
}
