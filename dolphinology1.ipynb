{
 "cells": [
  {
   "cell_type": "markdown",
   "metadata": {},
   "source": [
    "## Hodgkin Huxley model\n",
    "\n",
    "[Here](https://hodgkin-huxley-tutorial.readthedocs.io/en/latest/_static/Hodgkin%20Huxley.html) is a very basic python implementation of the HH model for [reference](https://hodgkin-huxley-tutorial.readthedocs.io/en/latest/_static/Tutorial.html). The [wiki](https://en.wikipedia.org/wiki/Hodgkin%E2%80%93Huxley_model) page is alright, but their [original paper](https://www.ncbi.nlm.nih.gov/pmc/articles/PMC1392413/) fucking rocks.\n",
    "\n",
    "Some [info](https://www.ncbi.nlm.nih.gov/pmc/articles/PMC3685589/) on modeling environments:\n",
    "> Currently, there are several specialized software packages available for visualizing neural phenomena from different perspectives. These include NEST, which uses unicompartmental models [11], and NEURON and GENESIS, which use both uni- and multi-compartmental models, thereby providing a more realistic model [12-15]. Of these packages, NEURON is the most popular, with numerous papers published in prestigious journals in the neuroscience field [16,17]. The literature clearly shows its efficiency in developing neuronal simulations with full control of the morphological and biophysical properties. On the other hand, it is important to highlight that, by default, NEURON uses the kinetics of the potassium and sodium channels with HH properties. \n",
    "\n",
    "The [NEURON website](https://www.neuron.yale.edu/neuron/) and [this MiT page](http://web.mit.edu/neuron_v7.4/nrntuthtml/index.html) contains a lot of documentation we should check out."
   ]
  },
  {
   "cell_type": "markdown",
   "metadata": {},
   "source": [
    "## Gap junctions\n",
    "[This paper](https://www.ncbi.nlm.nih.gov/pubmed/18287497) by Maccaferri is the one that blew my socks off when and got me onto the idea of 5-HT modulating network dynamical robustness through gap junctions. The effect of noradrenaline on these GABAergic cells in hippocampus is ~50% reduction in gap junction conductance: ![Figure 1](http://www.jneurosci.org/content/jneuro/28/8/1804/F1.medium.gif)\n",
    "![Figure 2](http://www.jneurosci.org/content/jneuro/28/8/1804/F2.medium.gif)\n",
    "\n",
    "[This paper](https://www.ncbi.nlm.nih.gov/pubmed/22319469) implements gap junctions in HH model to study synchrony and burst statistics in thalamic networks.\n",
    "\n",
    "[Here](https://www.ncbi.nlm.nih.gov/pmc/articles/PMC3530231/) is a (potentially crappy) paper that nonetheless also implements gap juntions into a HH model network. They use this simple measure to quanitify synchrony (errr):\n",
    "\n",
    "$$\n",
    "\\chi = \\frac{\\big(\\overline{\\frac{1}{N}\\sum_{i=1}^N V_i(t)\\big)^2} - \\big(\\overline{\\frac{1}{N}\\sum_{i=1}^N V_i(t)\\big)}^2}{\\frac{1}{N}\\sum_{i=1}^N \\big(\\overline{V_i(t)^2} - (\\overline{V_i(t)})^2\\big)}\n",
    "$$\n",
    "\n",
    "\n",
    "[These people](https://www.ncbi.nlm.nih.gov/pubmed/26953131) show that meth -yes meth- changes gap junction conductance in cortical interneurons:\n",
    "\n",
    "> Furthermore, we found that these changes in gap junctions induced by meth treatment were mediated by activation of dopamine receptors, suggesting that dysregulation of dopamine signaling induced by meth is essential for gap junction compromise.\n",
    "\n",
    "Interesting....\n",
    "\n",
    "[This paper](http://www.jneurosci.org/content/35/3/1149.long) shows that dopamine likely causes changes to oscillatory states in striatal fast spiking interneurons via gap junction modulation. They model gap junctions with these parameters:\n",
    "\n",
    "> The gap junction connections between the FSIs were modeled as resistive elements between the primary dendrites, with a conductance of 0.5 nS, coupling coefficient of 25%, and probability of gap junction connection between nearby FSIs (those within 100 μm) of 0.3 (Koós and Tepper, 1999; Tepper et al., 2004; Hjorth et al., 2009).\n",
    "\n",
    "These add to my belief that there is something important going on with gap junctions on network dynamics.\n",
    "\n",
    "The [London & Latham paper](https://www.ncbi.nlm.nih.gov/pubmed/20596024) that is the second important paper for our hypothesis. In particular, the demonstrate the inability of cortical networks _in-vivo_ and _in-silica_ to avoid large trajectory changes from single-spike perturbations. The supplementary info is important to see how they built a model devoid of any sort of oscillatory regimes.\n",
    "\n",
    "![Figure 1](https://www.ncbi.nlm.nih.gov/pmc/articles/instance/2898896/bin/nihms-196781-f0001.jpg)"
   ]
  },
  {
   "cell_type": "markdown",
   "metadata": {},
   "source": [
    "## Shunting\n",
    "[Wiki](https://en.wikipedia.org/wiki/Shunting_inhibition) article is slim.\n",
    "\n",
    "Basic idea is that any increase in local conductance of channels that have [reversal potentials](https://www.sciencedirect.com/topics/agricultural-and-biological-sciences/reversal-potential) given by the Nernst equation:\n",
    "\n",
    "$$\n",
    "E = \\frac{RT}{zF}\\ln{\\frac{[X^+]}{[X^-]}}\n",
    "$$\n",
    "\n",
    "similar to the [resting membrane potential](https://www.st-andrews.ac.uk/~wjh/neurotut/mempot.html) ($mV_r$) given by the Goldman Hodgkin Katz equation (weighted average of Nernst potentials for all permeable ion species):\n",
    "\n",
    "$$\n",
    "mV_r = \\frac{RT}{zF} \\ln{\\frac{P_{X_1}[X_1^+] + P_{X_2}[X_2^+] +...+ P_{X_n}[X_n^+]}{P_{X_1}[X_1^-] + P_{X_2}[X_2^-] +...+ P_{X_n}[X_n^-]}}\n",
    "$$\n",
    "\n",
    "will shortcircuit exitatory potentials through neighboring channels with more positive reversal potentials. GABAergic channels typically have a reversal potential around the $mV_r$ because it operates with $Cl^-$ and $K^+$, while glutamatergic channels have much more positive reversal potentials (which is why they can elicit action potentials obviously). So in theory, by opening up GABA channels, any excitatory input will affect the LOCAL $mV_r$ less on account of $K^+$ and $Cl^-$ ions more readily available (the P's in the above equation which are permeability factors) to counteract the positive charges from $Na^+$ influx. An excitatory potential should therefore degrade quicker than usual meaning it will less likely reach the soma to contribute to $mV_r$.\n",
    "\n",
    "From [here](https://www.sciencedirect.com/topics/medicine-and-dentistry/shunting-inhibition):\n",
    "> This example relies on a simplified model neuron, but Koch C. et al. (1983) developed a model that incorporates the spatial extent of the dendritic tree and the relative positioning of excitatory and shunting inhibition channels. They confirmed that shunting inhibition can lead to the desired veto-effect, but found that it will only veto excitatory input if the inhibitory conductance is located between the excitatory input and the soma. It should be noted, however, that in such a model with biophysically realistic assumptions the pure quadratic nonlinearity as envisaged in the Reichardt model is difficult to implement with shunting inhibition (Grzywacz, N. M. and Koch, C., 1987).\n",
    "\n",
    "> Although generally overlooked in the literature, shunting inhibition was discovered by Fatt and Katz working on crab neuromuscular junction (Fatt and Katz, 1953). In this preparation muscle fibers are innervated by inhibitory and excitatory nerves. “…the main effect of inhibitory impulses is to attenuate the ‘end plate potentials’, i.e. to diminish the local depolarization produced by motor impulses. Inhibitory impulses do not by themselves change the resting potential of the muscle fibre, unless this has previously been displaced from its normal level. But even though no potential change may be recorded, the inhibitory impulse…always produces a transient increase in membrane conductance (or ‘ion permeability’)… .”\n",
    "\n",
    "\n",
    "\n",
    "The basic hypothesis we'll test is that if GABAergic synapses are activated _simultaneously_ across large parts of the neuron surface, the net effect is to wipe out the postsynaptic potential history of that neuron. This is exactly what you want in order to decrease sensitivity to stimuli like single stray spikes. A very natural byproduct of that will be changes to the local field potential oscillatory regimes ([ref](https://www.ncbi.nlm.nih.gov/pubmed/17532059)).\n",
    "\n",
    "In short, the various interneuron species are [typically](https://www.ncbi.nlm.nih.gov/pmc/articles/PMC5511827/) connected electrically through dendrites by gap junctions. Such gap junctions facilitate synchrony because ion current flow changes are instantaneously broadcast into neighboring interneurons. More synchrony in the local interneuron network will lead to GABAergic inputs to excitatory neurons arriving closer together in time, despite being spread across the excitatory neuron surface and having different input drives. GABAergic channels change the conductance of the excitatory neuron membrane (more leaky) in effect scaling down excitatory inputs and/or limiting their spatial spread function.\n",
    "\n",
    "Because neuromodulators have been shown in several instances to change the conductance of gap junctions in interneurons, these are therefore prime candidates for determining network robustness to perturbations."
   ]
  },
  {
   "cell_type": "markdown",
   "metadata": {},
   "source": [
    "## First order of business\n",
    "- Decide on model architecture and implementation\n",
    "- Test with single then 2-neuron networks\n"
   ]
  },
  {
   "cell_type": "code",
   "execution_count": null,
   "metadata": {},
   "outputs": [],
   "source": []
  }
 ],
 "metadata": {
  "kernelspec": {
   "display_name": "Python 3",
   "language": "python",
   "name": "python3"
  },
  "language_info": {
   "codemirror_mode": {
    "name": "ipython",
    "version": 3
   },
   "file_extension": ".py",
   "mimetype": "text/x-python",
   "name": "python",
   "nbconvert_exporter": "python",
   "pygments_lexer": "ipython3",
   "version": "3.6.6"
  }
 },
 "nbformat": 4,
 "nbformat_minor": 2
}
